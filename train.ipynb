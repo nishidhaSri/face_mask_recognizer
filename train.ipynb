{
 "cells": [
  {
   "cell_type": "code",
   "execution_count": 1,
   "metadata": {},
   "outputs": [],
   "source": [
    "from keras.optimizers import RMSprop\n",
    "from keras.preprocessing.image import ImageDataGenerator\n",
    "import cv2\n",
    "from keras.models import Sequential\n",
    "from keras.layers import Conv2D, Input, ZeroPadding2D, BatchNormalization, Activation, MaxPooling2D, Flatten, Dense,Dropout\n",
    "from keras.models import Model, load_model\n",
    "from keras.callbacks import TensorBoard, ModelCheckpoint\n",
    "from sklearn.model_selection import train_test_split\n",
    "from sklearn.metrics import f1_score\n",
    "from sklearn.utils import shuffle\n",
    "import imutils\n",
    "import numpy as np"
   ]
  },
  {
   "cell_type": "code",
   "execution_count": 2,
   "metadata": {},
   "outputs": [],
   "source": [
    "model =Sequential([\n",
    "    Conv2D(100, (3,3), activation='relu', input_shape=(150, 150, 3)),\n",
    "    MaxPooling2D(2,2),\n",
    "    \n",
    "    Conv2D(100, (3,3), activation='relu'),\n",
    "    MaxPooling2D(2,2),\n",
    "    \n",
    "    Flatten(),\n",
    "    Dropout(0.5),\n",
    "    Dense(50, activation='relu'),\n",
    "    Dense(2, activation='softmax')\n",
    "])\n",
    "model.compile(optimizer='adam', loss='binary_crossentropy', metrics=['acc'])"
   ]
  },
  {
   "cell_type": "code",
   "execution_count": 3,
   "metadata": {},
   "outputs": [
    {
     "name": "stdout",
     "output_type": "stream",
     "text": [
      "Found 1315 images belonging to 2 classes.\n"
     ]
    }
   ],
   "source": [
    "TRAINING_DIR = \"./train\"\n",
    "train_datagen = ImageDataGenerator(rescale=1.0/255,\n",
    "                                   rotation_range=40,\n",
    "                                   width_shift_range=0.2,\n",
    "                                   height_shift_range=0.2,\n",
    "                                   shear_range=0.2,\n",
    "                                   zoom_range=0.2,\n",
    "                                   horizontal_flip=True,\n",
    "                                   fill_mode='nearest')\n",
    "\n",
    "train_generator = train_datagen.flow_from_directory(TRAINING_DIR, \n",
    "                                                    batch_size=10, \n",
    "                                                    target_size=(150, 150))"
   ]
  },
  {
   "cell_type": "code",
   "execution_count": 4,
   "metadata": {},
   "outputs": [
    {
     "name": "stdout",
     "output_type": "stream",
     "text": [
      "Found 194 images belonging to 2 classes.\n",
      "Epoch 1/10\n",
      "132/132 [==============================] - ETA: 0s - loss: 0.5779 - acc: 0.7103WARNING:tensorflow:From C:\\Users\\Nishidha\\anaconda3\\lib\\site-packages\\tensorflow\\python\\training\\tracking\\tracking.py:111: Model.state_updates (from tensorflow.python.keras.engine.training) is deprecated and will be removed in a future version.\n",
      "Instructions for updating:\n",
      "This property should not be used in TensorFlow 2.0, as updates are applied automatically.\n",
      "WARNING:tensorflow:From C:\\Users\\Nishidha\\anaconda3\\lib\\site-packages\\tensorflow\\python\\training\\tracking\\tracking.py:111: Layer.updates (from tensorflow.python.keras.engine.base_layer) is deprecated and will be removed in a future version.\n",
      "Instructions for updating:\n",
      "This property should not be used in TensorFlow 2.0, as updates are applied automatically.\n",
      "INFO:tensorflow:Assets written to: model2-001.model\\assets\n",
      "132/132 [==============================] - 157s 1s/step - loss: 0.5779 - acc: 0.7103 - val_loss: 0.2307 - val_acc: 0.9124\n",
      "Epoch 2/10\n",
      "132/132 [==============================] - ETA: 0s - loss: 0.3043 - acc: 0.8783INFO:tensorflow:Assets written to: model2-002.model\\assets\n",
      "132/132 [==============================] - 167s 1s/step - loss: 0.3043 - acc: 0.8783 - val_loss: 0.1261 - val_acc: 0.9639\n",
      "Epoch 3/10\n",
      "132/132 [==============================] - 149s 1s/step - loss: 0.2644 - acc: 0.9027 - val_loss: 0.4383 - val_acc: 0.7938\n",
      "Epoch 4/10\n",
      "132/132 [==============================] - ETA: 0s - loss: 0.2248 - acc: 0.9156INFO:tensorflow:Assets written to: model2-004.model\\assets\n",
      "132/132 [==============================] - 150s 1s/step - loss: 0.2248 - acc: 0.9156 - val_loss: 0.1069 - val_acc: 0.9485\n",
      "Epoch 5/10\n",
      "132/132 [==============================] - ETA: 0s - loss: 0.2226 - acc: 0.9141INFO:tensorflow:Assets written to: model2-005.model\\assets\n",
      "132/132 [==============================] - 156s 1s/step - loss: 0.2226 - acc: 0.9141 - val_loss: 0.0611 - val_acc: 0.9742\n",
      "Epoch 6/10\n",
      "132/132 [==============================] - 168s 1s/step - loss: 0.3441 - acc: 0.8464 - val_loss: 0.0667 - val_acc: 0.9742\n",
      "Epoch 7/10\n",
      "132/132 [==============================] - 152s 1s/step - loss: 0.2227 - acc: 0.9118 - val_loss: 0.0815 - val_acc: 0.9639\n",
      "Epoch 8/10\n",
      "132/132 [==============================] - 140s 1s/step - loss: 0.2172 - acc: 0.9110 - val_loss: 0.1514 - val_acc: 0.9227\n",
      "Epoch 9/10\n",
      "132/132 [==============================] - ETA: 0s - loss: 0.2274 - acc: 0.9232INFO:tensorflow:Assets written to: model2-009.model\\assets\n",
      "132/132 [==============================] - 157s 1s/step - loss: 0.2274 - acc: 0.9232 - val_loss: 0.0474 - val_acc: 0.9948\n",
      "Epoch 10/10\n",
      "132/132 [==============================] - 164s 1s/step - loss: 0.1852 - acc: 0.9278 - val_loss: 0.1379 - val_acc: 0.9227\n"
     ]
    }
   ],
   "source": [
    "VALIDATION_DIR = \"./test\"\n",
    "validation_datagen = ImageDataGenerator(rescale=1.0/255)\n",
    "\n",
    "validation_generator = validation_datagen.flow_from_directory(VALIDATION_DIR, \n",
    "                                                         batch_size=10, \n",
    "                                                         target_size=(150, 150))\n",
    "#Initialize a callback checkpoint to keep saving best model after each epoch while training:\n",
    "checkpoint = ModelCheckpoint('model2-{epoch:03d}.model',monitor='val_loss',verbose=0,save_best_only=True,mode='auto')\n",
    "\n",
    "\n",
    "history = model.fit(train_generator,\n",
    "                              epochs=10,\n",
    "                              validation_data=validation_generator,\n",
    "                              callbacks=[checkpoint])"
   ]
  },
  {
   "cell_type": "code",
   "execution_count": null,
   "metadata": {},
   "outputs": [],
   "source": []
  }
 ],
 "metadata": {
  "kernelspec": {
   "display_name": "Python 3",
   "language": "python",
   "name": "python3"
  },
  "language_info": {
   "codemirror_mode": {
    "name": "ipython",
    "version": 3
   },
   "file_extension": ".py",
   "mimetype": "text/x-python",
   "name": "python",
   "nbconvert_exporter": "python",
   "pygments_lexer": "ipython3",
   "version": "3.7.6"
  }
 },
 "nbformat": 4,
 "nbformat_minor": 4
}
